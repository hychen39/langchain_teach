{
 "cells": [
  {
   "metadata": {},
   "cell_type": "markdown",
   "source": [
    "# Introduction to the LangChain Expression Language (LCEL)\n",
    "\n",
    "中文翻譯英文的 LLM 應用程式\n",
    "\n",
    "輸入中文, LLM 產生英文翻譯, 然後將翻譯結果印出來\n"
   ],
   "id": "85fe04269c871e12"
  },
  {
   "cell_type": "code",
   "id": "initial_id",
   "metadata": {
    "collapsed": true,
    "ExecuteTime": {
     "end_time": "2025-04-29T13:55:07.000523Z",
     "start_time": "2025-04-29T13:55:06.994695Z"
    }
   },
   "source": [
    "from dotenv import load_dotenv\n",
    "from langchain_core.messages import BaseMessage\n",
    "from langchain_core.prompts import PromptTemplate\n",
    "\n",
    "# Load the environment variables\n",
    "load_dotenv()"
   ],
   "outputs": [
    {
     "data": {
      "text/plain": [
       "True"
      ]
     },
     "execution_count": 8,
     "metadata": {},
     "output_type": "execute_result"
    }
   ],
   "execution_count": 8
  },
  {
   "metadata": {},
   "cell_type": "markdown",
   "source": "# 使用 非 LCEL 的寫法",
   "id": "1bc580005f844fe8"
  },
  {
   "metadata": {},
   "cell_type": "markdown",
   "source": [
    "`PromptTemplate` 的三個常用方法:\n",
    "- `from_template`: 用來從 template 字串建立 PromptTemplate 物件\n",
    "- `from_messages`: 用來從 messages list 建立 PromptTemplate 物件\n",
    "- `fromat()`: 用來格式化 PromptTemplate 物件, 將 template 中的變數替換成實際的值,\n",
    "  並回傳格式化後的字串\n",
    "- `invoke()`: 用來執行 PromptTemplate 物件, 回傳 `PromptValue` 物件, 供後續的 Runnable 使用."
   ],
   "id": "84bd614d697235f1"
  },
  {
   "metadata": {
    "ExecuteTime": {
     "end_time": "2025-04-29T13:55:07.032532Z",
     "start_time": "2025-04-29T13:55:07.027024Z"
    }
   },
   "cell_type": "code",
   "source": [
    "from langchain_core.prompts import PromptTemplate\n",
    "# Create the prompt template\n",
    "template_str = \"\"\"\n",
    "你是一位翻譯專家, 負責將中文翻譯成英文。\n",
    "你會先將中文順過一次使其流暢，再翻譯成英文。\n",
    "輸出 JSON 格式的結果, 包含以下三個欄位:\n",
    "- `input`: 原始的中文\n",
    "- `revised_input`: 修正過的中文\n",
    "- `translation`: 翻譯後的英文\n",
    "\n",
    "<中文>: {input}\n",
    "\"\"\"\n",
    "\n",
    "# Creat the template object\n",
    "chat_template = PromptTemplate.from_template(template_str)\n",
    "\n",
    "# test the template\n",
    "# promptTemplate.invoke() return PromptValue type.\n",
    "print(chat_template.invoke({\"input\": \"請問你今天好嗎?\"}))"
   ],
   "id": "a70fea56be712988",
   "outputs": [
    {
     "name": "stdout",
     "output_type": "stream",
     "text": [
      "text='\\n你是一位翻譯專家, 負責將中文翻譯成英文。\\n你會先將中文順過一次使其流暢，再翻譯成英文。\\n輸出 JSON 格式的結果, 包含以下三個欄位:\\n- `input`: 原始的中文\\n- `revised_input`: 修正過的中文\\n- `translation`: 翻譯後的英文\\n\\n<中文>: 請問你今天好嗎?\\n'\n"
     ]
    }
   ],
   "execution_count": 9
  },
  {
   "metadata": {
    "ExecuteTime": {
     "end_time": "2025-04-29T13:55:07.096382Z",
     "start_time": "2025-04-29T13:55:07.058704Z"
    }
   },
   "cell_type": "code",
   "source": [
    "# Create a chat model\n",
    "# Prerequest: install langchain-openai package\n",
    "from langchain.chat_models import init_chat_model\n",
    "\n",
    "chat_model = init_chat_model(\"gpt-3.5-turbo\", model_provider=\"openai\")"
   ],
   "id": "c35e1094af802790",
   "outputs": [],
   "execution_count": 10
  },
  {
   "metadata": {
    "ExecuteTime": {
     "end_time": "2025-04-29T13:55:07.105632Z",
     "start_time": "2025-04-29T13:55:07.103711Z"
    }
   },
   "cell_type": "code",
   "source": [
    "# Create a JSON parser\n",
    "from langchain_core.output_parsers import JsonOutputParser\n",
    "\n",
    "json_parser = JsonOutputParser() # return a JSON object\n",
    "\n"
   ],
   "id": "c5f335e4cfc714d4",
   "outputs": [],
   "execution_count": 11
  },
  {
   "metadata": {
    "ExecuteTime": {
     "end_time": "2025-04-29T13:55:15.206646Z",
     "start_time": "2025-04-29T13:55:12.711249Z"
    }
   },
   "cell_type": "code",
   "source": [
    "from langchain_core.prompt_values import PromptValue\n",
    "\n",
    "# Assemble the three components\n",
    "# They all support the invoke() method\n",
    "\n",
    "chinese_str = \"美國總統特朗普重返白宮屆滿100天，美國的外交、內政以至金融市場都經歷動盪.\"\n",
    "prompt:PromptValue = chat_template.invoke({\"input\": chinese_str})\n",
    "response = chat_model.invoke(prompt)\n",
    "json_result = json_parser.invoke(response)\n",
    "\n",
    "print(json_result)"
   ],
   "id": "45a87095cb8cbf29",
   "outputs": [
    {
     "name": "stdout",
     "output_type": "stream",
     "text": [
      "{'input': '美國總統特朗普重返白宮屆滿100天，美國的外交、內政以至金融市場都經歷動盪.', 'revised_input': '美國總統特朗普重返白宮屆滿100天，美國的外交、內政甚至金融市場都經歷動盪。', 'translation': 'After 100 days since President Trump returned to the White House, the United States has experienced turmoil in its diplomacy, domestic affairs, and even financial markets.'}\n"
     ]
    }
   ],
   "execution_count": 12
  },
  {
   "metadata": {},
   "cell_type": "markdown",
   "source": "# 使用 LCEL 的寫法",
   "id": "8acc215ca00843f1"
  },
  {
   "metadata": {
    "ExecuteTime": {
     "end_time": "2025-04-29T14:00:08.991949Z",
     "start_time": "2025-04-29T14:00:06.782912Z"
    }
   },
   "cell_type": "code",
   "source": [
    "\n",
    "# Create the chain\n",
    "translate_chain = chat_template | chat_model | json_parser\n",
    "\n",
    "# run the chain\n",
    "# 因為 chain 中的每個執行步驟都支援 invoke() 方法, 所以可以直接使用 chain.invoke() 方法來執行整個 chain.\n",
    "# 這樣的寫法會比原本的寫法更簡潔, 而且更容易維護.\n",
    "translated_result_json = translate_chain.invoke({\"input\": chinese_str})\n",
    "\n",
    "print(translated_result_json)"
   ],
   "id": "74cbd494b0daee5c",
   "outputs": [
    {
     "name": "stdout",
     "output_type": "stream",
     "text": [
      "{'input': '美國總統特朗普重返白宮屆滿100天，美國的外交、內政以至金融市場都經歷動盪.', 'revised_input': '美國總統特朗普重返白宮滿100天，美國的外交、內政甚至金融市場都經歷動盪。', 'translation': \"After 100 days of President Trump's return to the White House, the United States has experienced turbulence in diplomacy, domestic affairs, and even financial markets.\"}\n"
     ]
    }
   ],
   "execution_count": 13
  }
 ],
 "metadata": {
  "kernelspec": {
   "display_name": "Python 3",
   "language": "python",
   "name": "python3"
  },
  "language_info": {
   "codemirror_mode": {
    "name": "ipython",
    "version": 2
   },
   "file_extension": ".py",
   "mimetype": "text/x-python",
   "name": "python",
   "nbconvert_exporter": "python",
   "pygments_lexer": "ipython2",
   "version": "2.7.6"
  }
 },
 "nbformat": 4,
 "nbformat_minor": 5
}
