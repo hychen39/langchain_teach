{
 "cells": [
  {
   "metadata": {},
   "cell_type": "markdown",
   "source": [
    "# 英翻中、中翻英 LLM 應用程式\n",
    "輸入 英文, LLM 產生中文翻譯, 然後將翻譯結果印出來\n",
    "\n",
    "輸入 中文, LLM 產生英文翻譯, 然後將翻譯結果印出來"
   ],
   "id": "84099ba674302f1a"
  },
  {
   "metadata": {},
   "cell_type": "markdown",
   "source": [
    "## Define the task dispatcher chain\n",
    "\n"
   ],
   "id": "92553636846be74"
  },
  {
   "metadata": {
    "ExecuteTime": {
     "end_time": "2025-05-07T06:41:44.476753Z",
     "start_time": "2025-05-07T06:41:44.468069Z"
    }
   },
   "cell_type": "code",
   "source": [
    "# load the API key\n",
    "from dotenv import load_dotenv\n",
    "\n",
    "load_dotenv()"
   ],
   "id": "41269ed02568e5f7",
   "outputs": [
    {
     "data": {
      "text/plain": [
       "True"
      ]
     },
     "execution_count": 1,
     "metadata": {},
     "output_type": "execute_result"
    }
   ],
   "execution_count": 1
  },
  {
   "cell_type": "code",
   "id": "initial_id",
   "metadata": {
    "collapsed": true,
    "ExecuteTime": {
     "end_time": "2025-05-07T06:57:54.620123Z",
     "start_time": "2025-05-07T06:57:54.617098Z"
    }
   },
   "source": [
    "task_dispatcher_prompt = \"\"\"\n",
    "You are a task dispatcher. You decide what task to do based on the input language.\n",
    "\n",
    "You first check the what kind of language the input is, English or Chinese, or other.\n",
    "Then,  You will return a JSON object **with no additional explanation** with the following fields:\n",
    "- \"key\": the task key\n",
    "- \"input\": the user's input\n",
    "\n",
    "<input>\n",
    "{user_input}\n",
    "\n",
    "<Available tasks (task_key:rules)>\n",
    "- `eng`: When the input is in Chinese, translate it to English.\n",
    "- `chinese`: When the input is in English, translate it to Chinese.\n",
    "- `default`: For other cases, it's not supported language.\n",
    "\"\"\"\n"
   ],
   "outputs": [],
   "execution_count": 22
  },
  {
   "metadata": {
    "ExecuteTime": {
     "end_time": "2025-05-07T06:41:50.219373Z",
     "start_time": "2025-05-07T06:41:49.635927Z"
    }
   },
   "cell_type": "code",
   "source": [
    "# Create the chat model\n",
    "from langchain.chat_models import init_chat_model\n",
    "llm = init_chat_model(\"gpt-4o-mini\", model_provider=\"openai\")"
   ],
   "id": "9b07b04f492f8bc9",
   "outputs": [],
   "execution_count": 2
  },
  {
   "metadata": {
    "ExecuteTime": {
     "end_time": "2025-05-07T06:57:57.053065Z",
     "start_time": "2025-05-07T06:57:57.051115Z"
    }
   },
   "cell_type": "code",
   "source": [
    "from langchain_core.output_parsers import JsonOutputParser, StrOutputParser\n",
    "\n",
    "# Create the dispatcher runnable\n",
    "from langchain_core.prompts import PromptTemplate\n",
    "\n",
    "\n",
    "dispatcher_runnable = (\n",
    "    PromptTemplate.from_template(task_dispatcher_prompt)\n",
    "    | llm\n",
    "    | JsonOutputParser()\n",
    ")"
   ],
   "id": "fe26b30a139bf6c1",
   "outputs": [],
   "execution_count": 23
  },
  {
   "metadata": {
    "ExecuteTime": {
     "end_time": "2025-05-06T22:35:54.788793Z",
     "start_time": "2025-05-06T22:35:51.988578Z"
    }
   },
   "cell_type": "code",
   "source": [
    "# Test the dispatcher runnable\n",
    "resp_1 = dispatcher_runnable.invoke({\"user_input\": \"今天天氣真好\"})\n",
    "print(resp_1)\n",
    "resp_2 = dispatcher_runnable.invoke({\"user_input\": \"The weather is nice today\"})\n",
    "print(resp_2)\n",
    "resp_3 = dispatcher_runnable.invoke({\"user_input\": \"Bonjour\"})\n",
    "print(resp_3)"
   ],
   "id": "ae418b34d0d148d5",
   "outputs": [
    {
     "name": "stdout",
     "output_type": "stream",
     "text": [
      "{'key': 'eng', 'input': '今天天氣真好'}\n",
      "{'key': 'chinese', 'input': 'The weather is nice today'}\n",
      "{'key': 'default', 'input': 'Bonjour'}\n"
     ]
    }
   ],
   "execution_count": 12
  },
  {
   "metadata": {},
   "cell_type": "markdown",
   "source": "## Define the ch-eng translation chain",
   "id": "acabec34e9a737b"
  },
  {
   "metadata": {
    "ExecuteTime": {
     "end_time": "2025-05-07T06:44:54.223149Z",
     "start_time": "2025-05-07T06:44:54.218163Z"
    }
   },
   "cell_type": "code",
   "source": [
    "# Create the Chinese to English translation chain\n",
    "ch_to_eng_prompt_str = \"\"\"\n",
    "You are a professional Chinese-to-English translator and editor.\n",
    "\n",
    "Your task is:\n",
    "1. First, **polish** the provided Traditional Chinese input to make it clearer, more fluent, and natural in tone.\n",
    "2. Then, **translate** the polished version into fluent, professional English.\n",
    "\n",
    "Output only in the following format, with no additional comments or explanation:\n",
    "- [polished_chinese]: <your polished Chinese version>\n",
    "- [english_translation]: <your English translation>\n",
    "\n",
    "Here is the original input:\n",
    "{user_input}\n",
    "\"\"\"\n",
    "\n",
    "# create the ch_to_eng runnable\n",
    "from langchain_core.prompts import PromptTemplate\n",
    "from langchain_core.output_parsers import StrOutputParser\n",
    "\n",
    "ch_to_eng_prompt = PromptTemplate.from_template(ch_to_eng_prompt_str)\n",
    "print(ch_to_eng_prompt.invoke({\"user_input\": \"今天天氣真好\"}))\n",
    "ch_to_eng_runnable = (\n",
    "    ch_to_eng_prompt | llm | StrOutputParser()\n",
    ")\n"
   ],
   "id": "1868303628c30710",
   "outputs": [
    {
     "name": "stdout",
     "output_type": "stream",
     "text": [
      "text='\\nYou are a professional Chinese-to-English translator and editor.\\n\\nYour task is:\\n1. First, **polish** the provided Traditional Chinese input to make it clearer, more fluent, and natural in tone.\\n2. Then, **translate** the polished version into fluent, professional English.\\n\\nOutput only in the following format, with no additional comments or explanation:\\n- [polished_chinese]: <your polished Chinese version>\\n- [english_translation]: <your English translation>\\n\\nHere is the original input:\\n今天天氣真好\\n'\n"
     ]
    }
   ],
   "execution_count": 7
  },
  {
   "metadata": {
    "ExecuteTime": {
     "end_time": "2025-05-07T06:45:04.976705Z",
     "start_time": "2025-05-07T06:45:03.839698Z"
    }
   },
   "cell_type": "code",
   "source": [
    "# Test the Chinese to English translation chain\n",
    "chinese_str = \"今天天氣真好\"\n",
    "resp_4 = ch_to_eng_runnable.invoke({\"user_input\": chinese_str})\n",
    "print(resp_4)"
   ],
   "id": "d4df3729a06bd19a",
   "outputs": [
    {
     "name": "stdout",
     "output_type": "stream",
     "text": [
      "- [polished_chinese]: 今天天氣真好，陽光明媚。\n",
      "- [english_translation]: The weather is really nice today, with bright sunshine.\n"
     ]
    }
   ],
   "execution_count": 8
  },
  {
   "metadata": {},
   "cell_type": "markdown",
   "source": "## Define the eng-ch translation chain",
   "id": "71a7d5c57b394028"
  },
  {
   "metadata": {
    "ExecuteTime": {
     "end_time": "2025-05-07T06:52:14.737822Z",
     "start_time": "2025-05-07T06:52:14.733722Z"
    }
   },
   "cell_type": "code",
   "source": [
    "eng_to_ch_prompt_str = \"\"\"\n",
    "You are a professional English-to-Chinese translator and editor.\n",
    "\n",
    "Your task is:\n",
    "1. First, **polish** the provided English input to make it clearer, more fluent, and natural in tone.\n",
    "2. Then, **translate** the polished version into fluent, professional Traditional Chinese.\n",
    "\n",
    "Output only in the following format, with no additional comments or explanation:\n",
    "- [polished_english]: <your polished English version>\n",
    "- [chinese_translation]: <your Chinese translation>\n",
    "\n",
    "Here is the original input:\n",
    "{user_input}\n",
    "\"\"\"\n"
   ],
   "id": "eedfb106fa4d7c7c",
   "outputs": [],
   "execution_count": 14
  },
  {
   "metadata": {
    "ExecuteTime": {
     "end_time": "2025-05-07T06:52:18.579046Z",
     "start_time": "2025-05-07T06:52:18.575593Z"
    }
   },
   "cell_type": "code",
   "source": [
    "# Create the English to Chinese translation chain\n",
    "eng_to_ch_prompt = PromptTemplate.from_template(eng_to_ch_prompt_str)\n",
    "eng_to_ch_runnable = ( \n",
    "    eng_to_ch_prompt | llm | StrOutputParser()\n",
    ")"
   ],
   "id": "e747088482f17b8e",
   "outputs": [],
   "execution_count": 16
  },
  {
   "metadata": {
    "ExecuteTime": {
     "end_time": "2025-05-07T06:53:49.153099Z",
     "start_time": "2025-05-07T06:53:46.781475Z"
    }
   },
   "cell_type": "code",
   "source": [
    "# Test the English to Chinese translation chain\n",
    "english_str = \"The weather is nice today\"\n",
    "resp_5 = eng_to_ch_runnable.invoke({\"user_input\": english_str})\n",
    "print(resp_5)\n"
   ],
   "id": "2e56e045126538ec",
   "outputs": [
    {
     "name": "stdout",
     "output_type": "stream",
     "text": [
      "- [polished_english]: The weather is beautiful today.\n",
      "- [chinese_translation]: 今天天氣很好。\n"
     ]
    }
   ],
   "execution_count": 17
  },
  {
   "metadata": {},
   "cell_type": "markdown",
   "source": "## Define the RouterRunnable",
   "id": "6747871db9640391"
  },
  {
   "metadata": {
    "ExecuteTime": {
     "end_time": "2025-05-07T07:03:35.687140Z",
     "start_time": "2025-05-07T07:03:35.683616Z"
    }
   },
   "cell_type": "code",
   "source": [
    "from langchain_core.runnables import RouterRunnable, RunnableLambda\n",
    "\n",
    "## Create the RouterRunnable\n",
    "\n",
    "router_runnable = RouterRunnable(\n",
    "    runnables={\n",
    "        \"eng\": ch_to_eng_runnable,\n",
    "        \"chinese\": eng_to_ch_runnable,\n",
    "        \"default\": RunnableLambda(lambda x: \"Not supported language (不支援的語言)\")\n",
    "        })\n",
    "\n",
    "\n"
   ],
   "id": "c39f1b7d4ee76844",
   "outputs": [],
   "execution_count": 28
  },
  {
   "metadata": {},
   "cell_type": "markdown",
   "source": "# Create the main chain",
   "id": "b40d2f666888919e"
  },
  {
   "metadata": {
    "ExecuteTime": {
     "end_time": "2025-05-07T07:03:39.218061Z",
     "start_time": "2025-05-07T07:03:39.215398Z"
    }
   },
   "cell_type": "code",
   "source": [
    "translate_chain = (\n",
    "    dispatcher_runnable\n",
    "    | router_runnable\n",
    "    | StrOutputParser()\n",
    ")\n"
   ],
   "id": "ff32dd8ad516068f",
   "outputs": [],
   "execution_count": 29
  },
  {
   "metadata": {
    "ExecuteTime": {
     "end_time": "2025-05-07T07:03:46.653789Z",
     "start_time": "2025-05-07T07:03:41.126170Z"
    }
   },
   "cell_type": "code",
   "source": [
    "# Test the main chain\n",
    "chinese_str = \"今天天氣真好\"\n",
    "english_str = \"The weather is nice today\"\n",
    "french_str = \"Bonjour! Comment ça va?\"\n",
    "print(\"Chinese to English translation:\")\n",
    "resp_6 = translate_chain.invoke({\"user_input\": chinese_str})\n",
    "print(resp_6)\n",
    "print(\"English to Chinese translation:\")\n",
    "resp_7 = translate_chain.invoke({\"user_input\": english_str})\n",
    "print(resp_7)\n",
    "print(\"French to English translation:\")\n",
    "resp_8 = translate_chain.invoke({\"user_input\": french_str})\n",
    "print(resp_8)\n"
   ],
   "id": "6ff259b16503608e",
   "outputs": [
    {
     "name": "stdout",
     "output_type": "stream",
     "text": [
      "Chinese to English translation:\n",
      "- [polished_chinese]: 今天天氣非常好。\n",
      "- [english_translation]: The weather today is really nice.\n",
      "English to Chinese translation:\n",
      "- [polished_english]: The weather is beautiful today.\n",
      "- [chinese_translation]: 今天的天氣真好。\n",
      "French to English translation:\n",
      "Not supported language (不支援的語言)\n"
     ]
    }
   ],
   "execution_count": 30
  },
  {
   "metadata": {
    "ExecuteTime": {
     "end_time": "2025-05-07T07:28:33.576549Z",
     "start_time": "2025-05-07T07:28:33.440718Z"
    }
   },
   "cell_type": "code",
   "source": [
    "# Print the chain ascii tree\n",
    "translate_chain.get_graph().print_ascii()"
   ],
   "id": "f00f85725a5f51b4",
   "outputs": [
    {
     "name": "stdout",
     "output_type": "stream",
     "text": [
      "     +-------------+       \n",
      "     | PromptInput |       \n",
      "     +-------------+       \n",
      "            *              \n",
      "            *              \n",
      "            *              \n",
      "    +----------------+     \n",
      "    | PromptTemplate |     \n",
      "    +----------------+     \n",
      "            *              \n",
      "            *              \n",
      "            *              \n",
      "      +------------+       \n",
      "      | ChatOpenAI |       \n",
      "      +------------+       \n",
      "            *              \n",
      "            *              \n",
      "            *              \n",
      "  +------------------+     \n",
      "  | JsonOutputParser |     \n",
      "  +------------------+     \n",
      "            *              \n",
      "            *              \n",
      "            *              \n",
      "    +----------------+     \n",
      "    | RouterRunnable |     \n",
      "    +----------------+     \n",
      "            *              \n",
      "            *              \n",
      "            *              \n",
      "   +-----------------+     \n",
      "   | StrOutputParser |     \n",
      "   +-----------------+     \n",
      "            *              \n",
      "            *              \n",
      "            *              \n",
      "+-----------------------+  \n",
      "| StrOutputParserOutput |  \n",
      "+-----------------------+  \n"
     ]
    }
   ],
   "execution_count": 31
  }
 ],
 "metadata": {
  "kernelspec": {
   "display_name": "Python 3",
   "language": "python",
   "name": "python3"
  },
  "language_info": {
   "codemirror_mode": {
    "name": "ipython",
    "version": 2
   },
   "file_extension": ".py",
   "mimetype": "text/x-python",
   "name": "python",
   "nbconvert_exporter": "python",
   "pygments_lexer": "ipython2",
   "version": "2.7.6"
  }
 },
 "nbformat": 4,
 "nbformat_minor": 5
}
